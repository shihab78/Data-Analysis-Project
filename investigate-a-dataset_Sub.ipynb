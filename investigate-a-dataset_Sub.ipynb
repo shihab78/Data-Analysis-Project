{
 "cells": [
  {
   "cell_type": "markdown",
   "metadata": {},
   "source": [
    "\n",
    "# Project: Investigating a Kaggle Dataset on No-Show Medical Appointments\n",
    "\n",
    "## Table of Contents\n",
    "<ul>\n",
    "<li><a href=\"#intro\">Introduction</a></li>\n",
    "<li><a href=\"#wrangling\">Data Wrangling</a></li>\n",
    "<li><a href=\"#eda\">Exploratory Data Analysis</a></li>\n",
    "<li><a href=\"#conclusions\">Conclusions</a></li>\n",
    "</ul>"
   ]
  },
  {
   "cell_type": "markdown",
   "metadata": {},
   "source": [
    "<a id='intro'></a>\n",
    "## Introduction\n",
    "\n",
    "This is a Kaggle dataset having 110,527 medical appointments collected from Brazil. It also includes 14 associated variables (characteristics). <br>\n",
    "However, we shall investigate the dataset and try to understand the facts behind the no-show appointments. <br>\n",
    "Now, let's get intruduced with the 14 characteristics i.e. the description of each column: <br>\n",
    "\n",
    ">01 - PatientId: Identification of a patient <br>\n",
    "02 - AppointmentID: Identification of each appointment <br>\n",
    "03 - Gender: Male or Female <br>\n",
    "05 - ScheduledDay: The day someone called or registered the appointment <br>\n",
    "04 - AppointmentDay: The day when they have to visit the doctor <br>\n",
    "06 - Age: Age of the patient <br>\n",
    "07 - Neighbourhood: Where the appointment takes place <br>\n",
    "08 - Scholarship: True or False. In the dataset ‘Scholarship’ indicates whether or not the patient is enrolled in Brasilian social welfare program \"Bolsa Família\" that provides financial aid to poor Brazilian families <br>\n",
    "09 - Hipertension: True or False <br>\n",
    "10 - Diabetes: True or False <br>\n",
    "11 - Alcoholism: True or False <br>\n",
    "12 - Handicap: True or False <br>\n",
    "13 - SMS_received: 1 or more messages sent to the patient, True or False <br>\n",
    "14 - No-show: True or False. Here, No = showed, and Yes = did not show <br>\n",
    "Although not specified in the Kaggle page or dataset-set-options document, we will consider True = 1 and False = 0. <br>\n",
    "\n",
    "For analysis purpose, we shall consider 'No-show' as dependent variables and 'Age', 'SMS_received' and 'Scholarship' as independent variable. We'll try to figure out whether there is any correlations between these factors and the patient's show up or not. <br>\n",
    "\n",
    "The questions we'll answer are: <br>\n",
    "\n",
    " 1. What percentage of patients did not show up?</font> <br>\n",
    " 2. Do older patient's tend to miss their appointments in comparison to younger patients?</font> <br>\n",
    " 3. Does sending SMS message about appointments has influence on patient's show up or not?</font> <br>\n",
    " 4. Does financial ability of the patients has any influence on no-show appointments?</font> <br>\n",
    "\n",
    "\n",
    "First of all, we want to import the necessary packages we will be using. <br>\n"
   ]
  },
  {
   "cell_type": "code",
   "execution_count": 2,
   "metadata": {},
   "outputs": [],
   "source": [
    "import numpy as np\n",
    "import pandas as pd\n",
    "import matplotlib.pyplot as plt\n",
    "import seaborn as sns\n",
    "%matplotlib inline"
   ]
  },
  {
   "cell_type": "markdown",
   "metadata": {},
   "source": [
    "<a id='wrangling'></a>\n",
    "## Data Wrangling\n",
    "\n",
    "Now that we have imported the necessary packages, it's time to load the dataset and prepare it for analysis. We'll try to understand the structure of the dataset and clean/manipulate it, where necessary, for smooth analysis purpose.\n"
   ]
  },
  {
   "cell_type": "markdown",
   "metadata": {},
   "source": [
    "### General Properties\n",
    "\n",
    "At this stage, we shall load the dataset and have a quick look on first few rows as well as the total number of rows and colums."
   ]
  },
  {
   "cell_type": "code",
   "execution_count": 3,
   "metadata": {
    "scrolled": false
   },
   "outputs": [
    {
     "data": {
      "text/html": [
       "<div>\n",
       "<style scoped>\n",
       "    .dataframe tbody tr th:only-of-type {\n",
       "        vertical-align: middle;\n",
       "    }\n",
       "\n",
       "    .dataframe tbody tr th {\n",
       "        vertical-align: top;\n",
       "    }\n",
       "\n",
       "    .dataframe thead th {\n",
       "        text-align: right;\n",
       "    }\n",
       "</style>\n",
       "<table border=\"1\" class=\"dataframe\">\n",
       "  <thead>\n",
       "    <tr style=\"text-align: right;\">\n",
       "      <th></th>\n",
       "      <th>PatientId</th>\n",
       "      <th>AppointmentID</th>\n",
       "      <th>Gender</th>\n",
       "      <th>ScheduledDay</th>\n",
       "      <th>AppointmentDay</th>\n",
       "      <th>Age</th>\n",
       "      <th>Neighbourhood</th>\n",
       "      <th>Scholarship</th>\n",
       "      <th>Hipertension</th>\n",
       "      <th>Diabetes</th>\n",
       "      <th>Alcoholism</th>\n",
       "      <th>Handcap</th>\n",
       "      <th>SMS_received</th>\n",
       "      <th>No-show</th>\n",
       "    </tr>\n",
       "  </thead>\n",
       "  <tbody>\n",
       "    <tr>\n",
       "      <th>0</th>\n",
       "      <td>2.987250e+13</td>\n",
       "      <td>5642903</td>\n",
       "      <td>F</td>\n",
       "      <td>2016-04-29T18:38:08Z</td>\n",
       "      <td>2016-04-29T00:00:00Z</td>\n",
       "      <td>62</td>\n",
       "      <td>JARDIM DA PENHA</td>\n",
       "      <td>0</td>\n",
       "      <td>1</td>\n",
       "      <td>0</td>\n",
       "      <td>0</td>\n",
       "      <td>0</td>\n",
       "      <td>0</td>\n",
       "      <td>No</td>\n",
       "    </tr>\n",
       "    <tr>\n",
       "      <th>1</th>\n",
       "      <td>5.589978e+14</td>\n",
       "      <td>5642503</td>\n",
       "      <td>M</td>\n",
       "      <td>2016-04-29T16:08:27Z</td>\n",
       "      <td>2016-04-29T00:00:00Z</td>\n",
       "      <td>56</td>\n",
       "      <td>JARDIM DA PENHA</td>\n",
       "      <td>0</td>\n",
       "      <td>0</td>\n",
       "      <td>0</td>\n",
       "      <td>0</td>\n",
       "      <td>0</td>\n",
       "      <td>0</td>\n",
       "      <td>No</td>\n",
       "    </tr>\n",
       "    <tr>\n",
       "      <th>2</th>\n",
       "      <td>4.262962e+12</td>\n",
       "      <td>5642549</td>\n",
       "      <td>F</td>\n",
       "      <td>2016-04-29T16:19:04Z</td>\n",
       "      <td>2016-04-29T00:00:00Z</td>\n",
       "      <td>62</td>\n",
       "      <td>MATA DA PRAIA</td>\n",
       "      <td>0</td>\n",
       "      <td>0</td>\n",
       "      <td>0</td>\n",
       "      <td>0</td>\n",
       "      <td>0</td>\n",
       "      <td>0</td>\n",
       "      <td>No</td>\n",
       "    </tr>\n",
       "    <tr>\n",
       "      <th>3</th>\n",
       "      <td>8.679512e+11</td>\n",
       "      <td>5642828</td>\n",
       "      <td>F</td>\n",
       "      <td>2016-04-29T17:29:31Z</td>\n",
       "      <td>2016-04-29T00:00:00Z</td>\n",
       "      <td>8</td>\n",
       "      <td>PONTAL DE CAMBURI</td>\n",
       "      <td>0</td>\n",
       "      <td>0</td>\n",
       "      <td>0</td>\n",
       "      <td>0</td>\n",
       "      <td>0</td>\n",
       "      <td>0</td>\n",
       "      <td>No</td>\n",
       "    </tr>\n",
       "    <tr>\n",
       "      <th>4</th>\n",
       "      <td>8.841186e+12</td>\n",
       "      <td>5642494</td>\n",
       "      <td>F</td>\n",
       "      <td>2016-04-29T16:07:23Z</td>\n",
       "      <td>2016-04-29T00:00:00Z</td>\n",
       "      <td>56</td>\n",
       "      <td>JARDIM DA PENHA</td>\n",
       "      <td>0</td>\n",
       "      <td>1</td>\n",
       "      <td>1</td>\n",
       "      <td>0</td>\n",
       "      <td>0</td>\n",
       "      <td>0</td>\n",
       "      <td>No</td>\n",
       "    </tr>\n",
       "  </tbody>\n",
       "</table>\n",
       "</div>"
      ],
      "text/plain": [
       "      PatientId  AppointmentID Gender          ScheduledDay  \\\n",
       "0  2.987250e+13        5642903      F  2016-04-29T18:38:08Z   \n",
       "1  5.589978e+14        5642503      M  2016-04-29T16:08:27Z   \n",
       "2  4.262962e+12        5642549      F  2016-04-29T16:19:04Z   \n",
       "3  8.679512e+11        5642828      F  2016-04-29T17:29:31Z   \n",
       "4  8.841186e+12        5642494      F  2016-04-29T16:07:23Z   \n",
       "\n",
       "         AppointmentDay  Age      Neighbourhood  Scholarship  Hipertension  \\\n",
       "0  2016-04-29T00:00:00Z   62    JARDIM DA PENHA            0             1   \n",
       "1  2016-04-29T00:00:00Z   56    JARDIM DA PENHA            0             0   \n",
       "2  2016-04-29T00:00:00Z   62      MATA DA PRAIA            0             0   \n",
       "3  2016-04-29T00:00:00Z    8  PONTAL DE CAMBURI            0             0   \n",
       "4  2016-04-29T00:00:00Z   56    JARDIM DA PENHA            0             1   \n",
       "\n",
       "   Diabetes  Alcoholism  Handcap  SMS_received No-show  \n",
       "0         0           0        0             0      No  \n",
       "1         0           0        0             0      No  \n",
       "2         0           0        0             0      No  \n",
       "3         0           0        0             0      No  \n",
       "4         1           0        0             0      No  "
      ]
     },
     "execution_count": 3,
     "metadata": {},
     "output_type": "execute_result"
    }
   ],
   "source": [
    "df = pd.read_csv('noshowapp.csv')\n",
    "df.head()"
   ]
  },
  {
   "cell_type": "code",
   "execution_count": 4,
   "metadata": {},
   "outputs": [
    {
     "data": {
      "text/plain": [
       "(110527, 14)"
      ]
     },
     "execution_count": 4,
     "metadata": {},
     "output_type": "execute_result"
    }
   ],
   "source": [
    "df.shape"
   ]
  },
  {
   "cell_type": "markdown",
   "metadata": {},
   "source": [
    "We can see here that there are total 110,527 rows and 14 columns in the dataset. Now we want to check:<br>\n",
    "- Whether there is any duplicate and missing value or not\n",
    "- Whether we need to drop any unnecessary column or not \n",
    "- Whether we need to rename any column or not\n",
    "- Whether we need to change the data type of any column or not\n",
    "- Whether there is any inconsistency in the dataset or not"
   ]
  },
  {
   "cell_type": "markdown",
   "metadata": {},
   "source": [
    "### Scrabbing the dataset for more accurate analysis:"
   ]
  },
  {
   "cell_type": "markdown",
   "metadata": {
    "collapsed": true
   },
   "source": [
    "In this stage, the first thing we will do is to check whether there is any missing value or not."
   ]
  },
  {
   "cell_type": "code",
   "execution_count": 5,
   "metadata": {},
   "outputs": [
    {
     "name": "stdout",
     "output_type": "stream",
     "text": [
      "<class 'pandas.core.frame.DataFrame'>\n",
      "RangeIndex: 110527 entries, 0 to 110526\n",
      "Data columns (total 14 columns):\n",
      " #   Column          Non-Null Count   Dtype  \n",
      "---  ------          --------------   -----  \n",
      " 0   PatientId       110527 non-null  float64\n",
      " 1   AppointmentID   110527 non-null  int64  \n",
      " 2   Gender          110527 non-null  object \n",
      " 3   ScheduledDay    110527 non-null  object \n",
      " 4   AppointmentDay  110527 non-null  object \n",
      " 5   Age             110527 non-null  int64  \n",
      " 6   Neighbourhood   110527 non-null  object \n",
      " 7   Scholarship     110527 non-null  int64  \n",
      " 8   Hipertension    110527 non-null  int64  \n",
      " 9   Diabetes        110527 non-null  int64  \n",
      " 10  Alcoholism      110527 non-null  int64  \n",
      " 11  Handcap         110527 non-null  int64  \n",
      " 12  SMS_received    110527 non-null  int64  \n",
      " 13  No-show         110527 non-null  object \n",
      "dtypes: float64(1), int64(8), object(5)\n",
      "memory usage: 11.8+ MB\n"
     ]
    }
   ],
   "source": [
    "df.info()"
   ]
  },
  {
   "cell_type": "markdown",
   "metadata": {},
   "source": [
    "Looks like there is no missing value in the dataset, as all columns have the same number of values. Now we will check for any duplicate values."
   ]
  },
  {
   "cell_type": "code",
   "execution_count": 6,
   "metadata": {},
   "outputs": [
    {
     "data": {
      "text/plain": [
       "0"
      ]
     },
     "execution_count": 6,
     "metadata": {},
     "output_type": "execute_result"
    }
   ],
   "source": [
    "df.duplicated().sum()"
   ]
  },
  {
   "cell_type": "markdown",
   "metadata": {},
   "source": [
    "Looks like there is no duplicate value also. Now if we look at the dataset, it appears that we don't need all the 14 columns to answer our questions. Therefore it will be a good idea to drop the unnecessary columns and narrow down the dataset in order to make it short and simple."
   ]
  },
  {
   "cell_type": "code",
   "execution_count": 7,
   "metadata": {},
   "outputs": [],
   "source": [
    "df.drop(['PatientId', 'AppointmentID', 'Gender', 'ScheduledDay', 'AppointmentDay', 'Neighbourhood', 'Hipertension', 'Diabetes', 'Alcoholism', 'Handcap'], axis=1, inplace = True)"
   ]
  },
  {
   "cell_type": "markdown",
   "metadata": {},
   "source": [
    "Now we have to confirm that the columns are deleted"
   ]
  },
  {
   "cell_type": "code",
   "execution_count": 8,
   "metadata": {},
   "outputs": [
    {
     "data": {
      "text/html": [
       "<div>\n",
       "<style scoped>\n",
       "    .dataframe tbody tr th:only-of-type {\n",
       "        vertical-align: middle;\n",
       "    }\n",
       "\n",
       "    .dataframe tbody tr th {\n",
       "        vertical-align: top;\n",
       "    }\n",
       "\n",
       "    .dataframe thead th {\n",
       "        text-align: right;\n",
       "    }\n",
       "</style>\n",
       "<table border=\"1\" class=\"dataframe\">\n",
       "  <thead>\n",
       "    <tr style=\"text-align: right;\">\n",
       "      <th></th>\n",
       "      <th>Age</th>\n",
       "      <th>Scholarship</th>\n",
       "      <th>SMS_received</th>\n",
       "      <th>No-show</th>\n",
       "    </tr>\n",
       "  </thead>\n",
       "  <tbody>\n",
       "    <tr>\n",
       "      <th>0</th>\n",
       "      <td>62</td>\n",
       "      <td>0</td>\n",
       "      <td>0</td>\n",
       "      <td>No</td>\n",
       "    </tr>\n",
       "    <tr>\n",
       "      <th>1</th>\n",
       "      <td>56</td>\n",
       "      <td>0</td>\n",
       "      <td>0</td>\n",
       "      <td>No</td>\n",
       "    </tr>\n",
       "    <tr>\n",
       "      <th>2</th>\n",
       "      <td>62</td>\n",
       "      <td>0</td>\n",
       "      <td>0</td>\n",
       "      <td>No</td>\n",
       "    </tr>\n",
       "    <tr>\n",
       "      <th>3</th>\n",
       "      <td>8</td>\n",
       "      <td>0</td>\n",
       "      <td>0</td>\n",
       "      <td>No</td>\n",
       "    </tr>\n",
       "    <tr>\n",
       "      <th>4</th>\n",
       "      <td>56</td>\n",
       "      <td>0</td>\n",
       "      <td>0</td>\n",
       "      <td>No</td>\n",
       "    </tr>\n",
       "  </tbody>\n",
       "</table>\n",
       "</div>"
      ],
      "text/plain": [
       "   Age  Scholarship  SMS_received No-show\n",
       "0   62            0             0      No\n",
       "1   56            0             0      No\n",
       "2   62            0             0      No\n",
       "3    8            0             0      No\n",
       "4   56            0             0      No"
      ]
     },
     "execution_count": 8,
     "metadata": {},
     "output_type": "execute_result"
    }
   ],
   "source": [
    "df.head()"
   ]
  },
  {
   "cell_type": "markdown",
   "metadata": {},
   "source": [
    "The table is much smaller now and easier to explore. Now it appears that we need to make a little change in our column names. To make all column names identical, we want all column names to be lowercase and any dash (-) to be underscore (_)."
   ]
  },
  {
   "cell_type": "code",
   "execution_count": 9,
   "metadata": {},
   "outputs": [],
   "source": [
    "df.rename(columns = lambda x: x.lower().replace('-','_'), inplace = True)"
   ]
  },
  {
   "cell_type": "markdown",
   "metadata": {},
   "source": [
    "Now we have to confirm that the changes were made."
   ]
  },
  {
   "cell_type": "code",
   "execution_count": 10,
   "metadata": {},
   "outputs": [
    {
     "data": {
      "text/html": [
       "<div>\n",
       "<style scoped>\n",
       "    .dataframe tbody tr th:only-of-type {\n",
       "        vertical-align: middle;\n",
       "    }\n",
       "\n",
       "    .dataframe tbody tr th {\n",
       "        vertical-align: top;\n",
       "    }\n",
       "\n",
       "    .dataframe thead th {\n",
       "        text-align: right;\n",
       "    }\n",
       "</style>\n",
       "<table border=\"1\" class=\"dataframe\">\n",
       "  <thead>\n",
       "    <tr style=\"text-align: right;\">\n",
       "      <th></th>\n",
       "      <th>age</th>\n",
       "      <th>scholarship</th>\n",
       "      <th>sms_received</th>\n",
       "      <th>no_show</th>\n",
       "    </tr>\n",
       "  </thead>\n",
       "  <tbody>\n",
       "    <tr>\n",
       "      <th>0</th>\n",
       "      <td>62</td>\n",
       "      <td>0</td>\n",
       "      <td>0</td>\n",
       "      <td>No</td>\n",
       "    </tr>\n",
       "    <tr>\n",
       "      <th>1</th>\n",
       "      <td>56</td>\n",
       "      <td>0</td>\n",
       "      <td>0</td>\n",
       "      <td>No</td>\n",
       "    </tr>\n",
       "    <tr>\n",
       "      <th>2</th>\n",
       "      <td>62</td>\n",
       "      <td>0</td>\n",
       "      <td>0</td>\n",
       "      <td>No</td>\n",
       "    </tr>\n",
       "    <tr>\n",
       "      <th>3</th>\n",
       "      <td>8</td>\n",
       "      <td>0</td>\n",
       "      <td>0</td>\n",
       "      <td>No</td>\n",
       "    </tr>\n",
       "    <tr>\n",
       "      <th>4</th>\n",
       "      <td>56</td>\n",
       "      <td>0</td>\n",
       "      <td>0</td>\n",
       "      <td>No</td>\n",
       "    </tr>\n",
       "  </tbody>\n",
       "</table>\n",
       "</div>"
      ],
      "text/plain": [
       "   age  scholarship  sms_received no_show\n",
       "0   62            0             0      No\n",
       "1   56            0             0      No\n",
       "2   62            0             0      No\n",
       "3    8            0             0      No\n",
       "4   56            0             0      No"
      ]
     },
     "execution_count": 10,
     "metadata": {},
     "output_type": "execute_result"
    }
   ],
   "source": [
    "df.head()"
   ]
  },
  {
   "cell_type": "markdown",
   "metadata": {},
   "source": [
    "Now looks better. Let's check the data type."
   ]
  },
  {
   "cell_type": "code",
   "execution_count": 11,
   "metadata": {},
   "outputs": [
    {
     "name": "stdout",
     "output_type": "stream",
     "text": [
      "<class 'pandas.core.frame.DataFrame'>\n",
      "RangeIndex: 110527 entries, 0 to 110526\n",
      "Data columns (total 4 columns):\n",
      " #   Column        Non-Null Count   Dtype \n",
      "---  ------        --------------   ----- \n",
      " 0   age           110527 non-null  int64 \n",
      " 1   scholarship   110527 non-null  int64 \n",
      " 2   sms_received  110527 non-null  int64 \n",
      " 3   no_show       110527 non-null  object\n",
      "dtypes: int64(3), object(1)\n",
      "memory usage: 3.4+ MB\n"
     ]
    }
   ],
   "source": [
    "df.info()"
   ]
  },
  {
   "cell_type": "markdown",
   "metadata": {},
   "source": [
    "Looks good. But for further convenience, we would like to change the values of sms_received from 0/1 to Yes/No. And in order to do that we need to change the data type of \"sms_received\" from 'integer' to 'string' first."
   ]
  },
  {
   "cell_type": "code",
   "execution_count": 12,
   "metadata": {},
   "outputs": [],
   "source": [
    "df.sms_received = df.sms_received.astype(str)"
   ]
  },
  {
   "cell_type": "markdown",
   "metadata": {},
   "source": [
    "Let's confirm the change."
   ]
  },
  {
   "cell_type": "code",
   "execution_count": 13,
   "metadata": {},
   "outputs": [
    {
     "name": "stdout",
     "output_type": "stream",
     "text": [
      "<class 'pandas.core.frame.DataFrame'>\n",
      "RangeIndex: 110527 entries, 0 to 110526\n",
      "Data columns (total 4 columns):\n",
      " #   Column        Non-Null Count   Dtype \n",
      "---  ------        --------------   ----- \n",
      " 0   age           110527 non-null  int64 \n",
      " 1   scholarship   110527 non-null  int64 \n",
      " 2   sms_received  110527 non-null  object\n",
      " 3   no_show       110527 non-null  object\n",
      "dtypes: int64(2), object(2)\n",
      "memory usage: 3.4+ MB\n"
     ]
    }
   ],
   "source": [
    "df.info()"
   ]
  },
  {
   "cell_type": "markdown",
   "metadata": {},
   "source": [
    "Now it's time to change the values of sms_received from 0/1 to Yes/No."
   ]
  },
  {
   "cell_type": "code",
   "execution_count": 14,
   "metadata": {},
   "outputs": [],
   "source": [
    "df.sms_received.replace({\"0\":\"No\", \"1\":\"Yes\"}, inplace = True)"
   ]
  },
  {
   "cell_type": "markdown",
   "metadata": {},
   "source": [
    "Let's confirm the change."
   ]
  },
  {
   "cell_type": "code",
   "execution_count": 15,
   "metadata": {},
   "outputs": [
    {
     "data": {
      "text/html": [
       "<div>\n",
       "<style scoped>\n",
       "    .dataframe tbody tr th:only-of-type {\n",
       "        vertical-align: middle;\n",
       "    }\n",
       "\n",
       "    .dataframe tbody tr th {\n",
       "        vertical-align: top;\n",
       "    }\n",
       "\n",
       "    .dataframe thead th {\n",
       "        text-align: right;\n",
       "    }\n",
       "</style>\n",
       "<table border=\"1\" class=\"dataframe\">\n",
       "  <thead>\n",
       "    <tr style=\"text-align: right;\">\n",
       "      <th></th>\n",
       "      <th>age</th>\n",
       "      <th>scholarship</th>\n",
       "      <th>sms_received</th>\n",
       "      <th>no_show</th>\n",
       "    </tr>\n",
       "  </thead>\n",
       "  <tbody>\n",
       "    <tr>\n",
       "      <th>0</th>\n",
       "      <td>62</td>\n",
       "      <td>0</td>\n",
       "      <td>No</td>\n",
       "      <td>No</td>\n",
       "    </tr>\n",
       "    <tr>\n",
       "      <th>1</th>\n",
       "      <td>56</td>\n",
       "      <td>0</td>\n",
       "      <td>No</td>\n",
       "      <td>No</td>\n",
       "    </tr>\n",
       "    <tr>\n",
       "      <th>2</th>\n",
       "      <td>62</td>\n",
       "      <td>0</td>\n",
       "      <td>No</td>\n",
       "      <td>No</td>\n",
       "    </tr>\n",
       "    <tr>\n",
       "      <th>3</th>\n",
       "      <td>8</td>\n",
       "      <td>0</td>\n",
       "      <td>No</td>\n",
       "      <td>No</td>\n",
       "    </tr>\n",
       "    <tr>\n",
       "      <th>4</th>\n",
       "      <td>56</td>\n",
       "      <td>0</td>\n",
       "      <td>No</td>\n",
       "      <td>No</td>\n",
       "    </tr>\n",
       "  </tbody>\n",
       "</table>\n",
       "</div>"
      ],
      "text/plain": [
       "   age  scholarship sms_received no_show\n",
       "0   62            0           No      No\n",
       "1   56            0           No      No\n",
       "2   62            0           No      No\n",
       "3    8            0           No      No\n",
       "4   56            0           No      No"
      ]
     },
     "execution_count": 15,
     "metadata": {},
     "output_type": "execute_result"
    }
   ],
   "source": [
    "df.head()"
   ]
  },
  {
   "cell_type": "markdown",
   "metadata": {},
   "source": [
    "At this point we would like to see the summary statistics in order to better grasp the dataset."
   ]
  },
  {
   "cell_type": "code",
   "execution_count": 16,
   "metadata": {},
   "outputs": [
    {
     "data": {
      "text/html": [
       "<div>\n",
       "<style scoped>\n",
       "    .dataframe tbody tr th:only-of-type {\n",
       "        vertical-align: middle;\n",
       "    }\n",
       "\n",
       "    .dataframe tbody tr th {\n",
       "        vertical-align: top;\n",
       "    }\n",
       "\n",
       "    .dataframe thead th {\n",
       "        text-align: right;\n",
       "    }\n",
       "</style>\n",
       "<table border=\"1\" class=\"dataframe\">\n",
       "  <thead>\n",
       "    <tr style=\"text-align: right;\">\n",
       "      <th></th>\n",
       "      <th>age</th>\n",
       "      <th>scholarship</th>\n",
       "    </tr>\n",
       "  </thead>\n",
       "  <tbody>\n",
       "    <tr>\n",
       "      <th>count</th>\n",
       "      <td>110527.000000</td>\n",
       "      <td>110527.000000</td>\n",
       "    </tr>\n",
       "    <tr>\n",
       "      <th>mean</th>\n",
       "      <td>37.088874</td>\n",
       "      <td>0.098266</td>\n",
       "    </tr>\n",
       "    <tr>\n",
       "      <th>std</th>\n",
       "      <td>23.110205</td>\n",
       "      <td>0.297675</td>\n",
       "    </tr>\n",
       "    <tr>\n",
       "      <th>min</th>\n",
       "      <td>-1.000000</td>\n",
       "      <td>0.000000</td>\n",
       "    </tr>\n",
       "    <tr>\n",
       "      <th>25%</th>\n",
       "      <td>18.000000</td>\n",
       "      <td>0.000000</td>\n",
       "    </tr>\n",
       "    <tr>\n",
       "      <th>50%</th>\n",
       "      <td>37.000000</td>\n",
       "      <td>0.000000</td>\n",
       "    </tr>\n",
       "    <tr>\n",
       "      <th>75%</th>\n",
       "      <td>55.000000</td>\n",
       "      <td>0.000000</td>\n",
       "    </tr>\n",
       "    <tr>\n",
       "      <th>max</th>\n",
       "      <td>115.000000</td>\n",
       "      <td>1.000000</td>\n",
       "    </tr>\n",
       "  </tbody>\n",
       "</table>\n",
       "</div>"
      ],
      "text/plain": [
       "                 age    scholarship\n",
       "count  110527.000000  110527.000000\n",
       "mean       37.088874       0.098266\n",
       "std        23.110205       0.297675\n",
       "min        -1.000000       0.000000\n",
       "25%        18.000000       0.000000\n",
       "50%        37.000000       0.000000\n",
       "75%        55.000000       0.000000\n",
       "max       115.000000       1.000000"
      ]
     },
     "execution_count": 16,
     "metadata": {},
     "output_type": "execute_result"
    }
   ],
   "source": [
    "df.describe()"
   ]
  },
  {
   "cell_type": "markdown",
   "metadata": {},
   "source": [
    "The range of the 'age' column is a bit interesting. The eldest person in the dataset is 115 years old and the youngest one is -1 !!<br> As age cannot be negative, we would treat it as typo. However, we shall go ahead and delete the rows. To do this, first we have to figure out the number of negative values."
   ]
  },
  {
   "cell_type": "code",
   "execution_count": 17,
   "metadata": {},
   "outputs": [
    {
     "data": {
      "text/plain": [
       " 0      3539\n",
       " 1      2273\n",
       " 52     1746\n",
       " 49     1652\n",
       " 53     1651\n",
       "        ... \n",
       " 115       5\n",
       " 100       4\n",
       " 102       2\n",
       " 99        1\n",
       "-1         1\n",
       "Name: age, Length: 104, dtype: int64"
      ]
     },
     "execution_count": 17,
     "metadata": {},
     "output_type": "execute_result"
    }
   ],
   "source": [
    "df.age.value_counts()"
   ]
  },
  {
   "cell_type": "markdown",
   "metadata": {},
   "source": [
    "Looks like we have only one negative value. Now we want to identify the location of the value."
   ]
  },
  {
   "cell_type": "code",
   "execution_count": 18,
   "metadata": {},
   "outputs": [
    {
     "data": {
      "text/html": [
       "<div>\n",
       "<style scoped>\n",
       "    .dataframe tbody tr th:only-of-type {\n",
       "        vertical-align: middle;\n",
       "    }\n",
       "\n",
       "    .dataframe tbody tr th {\n",
       "        vertical-align: top;\n",
       "    }\n",
       "\n",
       "    .dataframe thead th {\n",
       "        text-align: right;\n",
       "    }\n",
       "</style>\n",
       "<table border=\"1\" class=\"dataframe\">\n",
       "  <thead>\n",
       "    <tr style=\"text-align: right;\">\n",
       "      <th></th>\n",
       "      <th>age</th>\n",
       "      <th>scholarship</th>\n",
       "      <th>sms_received</th>\n",
       "      <th>no_show</th>\n",
       "    </tr>\n",
       "  </thead>\n",
       "  <tbody>\n",
       "    <tr>\n",
       "      <th>99832</th>\n",
       "      <td>-1</td>\n",
       "      <td>0</td>\n",
       "      <td>No</td>\n",
       "      <td>No</td>\n",
       "    </tr>\n",
       "  </tbody>\n",
       "</table>\n",
       "</div>"
      ],
      "text/plain": [
       "       age  scholarship sms_received no_show\n",
       "99832   -1            0           No      No"
      ]
     },
     "execution_count": 18,
     "metadata": {},
     "output_type": "execute_result"
    }
   ],
   "source": [
    "df.query('age == -1')"
   ]
  },
  {
   "cell_type": "markdown",
   "metadata": {},
   "source": [
    "As we found the index number of the row, we shall go ahead and delete the row."
   ]
  },
  {
   "cell_type": "code",
   "execution_count": 19,
   "metadata": {},
   "outputs": [],
   "source": [
    "df.drop(df.index[99832], inplace = True)"
   ]
  },
  {
   "cell_type": "markdown",
   "metadata": {},
   "source": [
    "Let's confirm the change."
   ]
  },
  {
   "cell_type": "code",
   "execution_count": 20,
   "metadata": {},
   "outputs": [
    {
     "data": {
      "text/html": [
       "<div>\n",
       "<style scoped>\n",
       "    .dataframe tbody tr th:only-of-type {\n",
       "        vertical-align: middle;\n",
       "    }\n",
       "\n",
       "    .dataframe tbody tr th {\n",
       "        vertical-align: top;\n",
       "    }\n",
       "\n",
       "    .dataframe thead th {\n",
       "        text-align: right;\n",
       "    }\n",
       "</style>\n",
       "<table border=\"1\" class=\"dataframe\">\n",
       "  <thead>\n",
       "    <tr style=\"text-align: right;\">\n",
       "      <th></th>\n",
       "      <th>age</th>\n",
       "      <th>scholarship</th>\n",
       "    </tr>\n",
       "  </thead>\n",
       "  <tbody>\n",
       "    <tr>\n",
       "      <th>count</th>\n",
       "      <td>110526.000000</td>\n",
       "      <td>110526.000000</td>\n",
       "    </tr>\n",
       "    <tr>\n",
       "      <th>mean</th>\n",
       "      <td>37.089219</td>\n",
       "      <td>0.098266</td>\n",
       "    </tr>\n",
       "    <tr>\n",
       "      <th>std</th>\n",
       "      <td>23.110026</td>\n",
       "      <td>0.297676</td>\n",
       "    </tr>\n",
       "    <tr>\n",
       "      <th>min</th>\n",
       "      <td>0.000000</td>\n",
       "      <td>0.000000</td>\n",
       "    </tr>\n",
       "    <tr>\n",
       "      <th>25%</th>\n",
       "      <td>18.000000</td>\n",
       "      <td>0.000000</td>\n",
       "    </tr>\n",
       "    <tr>\n",
       "      <th>50%</th>\n",
       "      <td>37.000000</td>\n",
       "      <td>0.000000</td>\n",
       "    </tr>\n",
       "    <tr>\n",
       "      <th>75%</th>\n",
       "      <td>55.000000</td>\n",
       "      <td>0.000000</td>\n",
       "    </tr>\n",
       "    <tr>\n",
       "      <th>max</th>\n",
       "      <td>115.000000</td>\n",
       "      <td>1.000000</td>\n",
       "    </tr>\n",
       "  </tbody>\n",
       "</table>\n",
       "</div>"
      ],
      "text/plain": [
       "                 age    scholarship\n",
       "count  110526.000000  110526.000000\n",
       "mean       37.089219       0.098266\n",
       "std        23.110026       0.297676\n",
       "min         0.000000       0.000000\n",
       "25%        18.000000       0.000000\n",
       "50%        37.000000       0.000000\n",
       "75%        55.000000       0.000000\n",
       "max       115.000000       1.000000"
      ]
     },
     "execution_count": 20,
     "metadata": {},
     "output_type": "execute_result"
    }
   ],
   "source": [
    "df.describe()"
   ]
  },
  {
   "cell_type": "markdown",
   "metadata": {},
   "source": [
    "Now the dataset looks clean and ready to move forward towards the exploration phase."
   ]
  },
  {
   "cell_type": "markdown",
   "metadata": {},
   "source": [
    "<a id='eda'></a>\n",
    "## Exploratory Data Analysis\n",
    "\n",
    "At this stage, we will explore the dataset and answer the questions we posed in the introduction section.\n",
    "\n",
    "### Research Question 1 : What percentage of patients did not show up?"
   ]
  },
  {
   "cell_type": "markdown",
   "metadata": {
    "collapsed": true
   },
   "source": [
    "To answer this question, first of all we need to figure out how many patients showed-up and how many patients did not show-up. Hence, we need the total number of 'Yes' and the total number of 'No' from the 'no_show' column."
   ]
  },
  {
   "cell_type": "code",
   "execution_count": 21,
   "metadata": {},
   "outputs": [
    {
     "data": {
      "text/plain": [
       "No     88207\n",
       "Yes    22319\n",
       "Name: no_show, dtype: int64"
      ]
     },
     "execution_count": 21,
     "metadata": {},
     "output_type": "execute_result"
    }
   ],
   "source": [
    "df_q1 = df.no_show.value_counts()\n",
    "df_q1"
   ]
  },
  {
   "cell_type": "markdown",
   "metadata": {},
   "source": [
    "Here, as per column description, 'No' represents the number of patients showed-up and 'Yes' represents the number of patients did not show-up. Now it will be easier for us to find out the percentage of patients showed-up and the percentage of patients did not show-up."
   ]
  },
  {
   "cell_type": "code",
   "execution_count": 22,
   "metadata": {},
   "outputs": [
    {
     "data": {
      "text/plain": [
       "88207"
      ]
     },
     "execution_count": 22,
     "metadata": {},
     "output_type": "execute_result"
    }
   ],
   "source": [
    "patients_showed_up = df_q1.No # this represents the number of patients showed-up\n",
    "patients_showed_up"
   ]
  },
  {
   "cell_type": "code",
   "execution_count": 23,
   "metadata": {},
   "outputs": [
    {
     "data": {
      "text/plain": [
       "22319"
      ]
     },
     "execution_count": 23,
     "metadata": {},
     "output_type": "execute_result"
    }
   ],
   "source": [
    "patients_did_not_show_up = df_q1.Yes  # this represents the number of patients did not show-up\n",
    "patients_did_not_show_up"
   ]
  },
  {
   "cell_type": "code",
   "execution_count": 24,
   "metadata": {},
   "outputs": [
    {
     "data": {
      "text/plain": [
       "110526"
      ]
     },
     "execution_count": 24,
     "metadata": {},
     "output_type": "execute_result"
    }
   ],
   "source": [
    "total_patients = df.shape[0]  # this represents the total number of patients\n",
    "total_patients"
   ]
  },
  {
   "cell_type": "code",
   "execution_count": 25,
   "metadata": {},
   "outputs": [],
   "source": [
    "percentage_showed_up = (patients_showed_up/total_patients)*100   # this represents the percentage of patients showed-up\n",
    "percentage_no_show = (patients_did_not_show_up/total_patients)*100   # this represents the percentage of patients did not show-up"
   ]
  },
  {
   "cell_type": "markdown",
   "metadata": {},
   "source": [
    "Let's see the values of the percentage of patients showed-up and the percentage of patients did not show-up."
   ]
  },
  {
   "cell_type": "code",
   "execution_count": 26,
   "metadata": {},
   "outputs": [
    {
     "name": "stdout",
     "output_type": "stream",
     "text": [
      "20.193438647919944 79.80656135208005\n"
     ]
    }
   ],
   "source": [
    "print(percentage_no_show, percentage_showed_up)"
   ]
  },
  {
   "cell_type": "markdown",
   "metadata": {},
   "source": [
    "Now let's plot our findings in a bar chart for an easy visualization."
   ]
  },
  {
   "cell_type": "code",
   "execution_count": 27,
   "metadata": {},
   "outputs": [
    {
     "data": {
      "image/png": "[encoded data removed]",
      "text/plain": [
       "<Figure size 432x288 with 1 Axes>"
      ]
     },
     "metadata": {
      "needs_background": "light"
     },
     "output_type": "display_data"
    }
   ],
   "source": [
    "locations = [0, 1]\n",
    "heights = [percentage_showed_up, percentage_no_show]\n",
    "labels = ['Showed-Up', 'No-Show']\n",
    "plt.bar(locations, heights, tick_label=labels, facecolor='steelblue', edgecolor='black', width=0.6 )\n",
    "plt.title('Patients Show-Up Status by Percentage')\n",
    "plt.xlabel('Show-Up Status')\n",
    "plt.ylabel('Percentage of patients')\n",
    "\n",
    "for i in range(len(locations)):\n",
    "    plt.text(i,heights[i], f\"{round(heights[i],2)} %\", ha='center', va='bottom') # to show the data level on top of the bars   \n",
    "\n",
    "plt.show()"
   ]
  },
  {
   "cell_type": "markdown",
   "metadata": {},
   "source": [
    "Here it's clearly visible that 20.19% or one fifth of the total patients who scheduled for appointment did not show-up. As 20% is a significant number, we would like to add that further investigation may be required to figure out why 1 out of every 5 patients did not show-up even after scheduling their appointments."
   ]
  },
  {
   "cell_type": "markdown",
   "metadata": {},
   "source": [
    "### Research Question 2 : Do older patient's tend to miss their appointments in comparison to younger patients?"
   ]
  },
  {
   "cell_type": "markdown",
   "metadata": {},
   "source": [
    "To answer this question, first we need to separate the patients into two different groups who did not show-up and who actually showed-up. Then we will plot both of the groups by age in the same histogram to get a comparative picture."
   ]
  },
  {
   "cell_type": "code",
   "execution_count": 28,
   "metadata": {},
   "outputs": [],
   "source": [
    "df_no_show = df.query('no_show == \"Yes\"')   # These are the patients who did not show-up\n",
    "df_showed_up = df.query('no_show == \"No\"')  # These are the patients who showed-up"
   ]
  },
  {
   "cell_type": "code",
   "execution_count": 29,
   "metadata": {},
   "outputs": [
    {
     "data": {
      "image/png": "[encoded data removed]",
      "text/plain": [
       "<Figure size 432x288 with 1 Axes>"
      ]
     },
     "metadata": {
      "needs_background": "light"
     },
     "output_type": "display_data"
    }
   ],
   "source": [
    "df_no_show.age.hist(alpha=0.6, color='orange')\n",
    "df_showed_up.age.hist(alpha=0.5, color='steelblue')\n",
    "plt.title(\"Number of Patients by age and show-up status\")\n",
    "plt.xlabel('Age')\n",
    "plt.ylabel('Number of patients')\n",
    "plt.legend(('No-Show', 'Showed-Up'))\n",
    "plt.show()"
   ]
  },
  {
   "cell_type": "markdown",
   "metadata": {},
   "source": [
    "Here we can see that, in both cases, the number of younger patients are higher than the older ones. However, to get a more specific answer of our question, we need to dig in a little bit more. In this case, we want to see what percentage of younger patients did not show up and what percentage of older patients did not show up. This will help us to conclude whether older patients tend to miss their appointments or not in comparison to younger patients. However, to do that we will once again separate the patients into two different groups, the younger and the older one. Along with that, statistical information of the dataset will help us in this case."
   ]
  },
  {
   "cell_type": "code",
   "execution_count": 30,
   "metadata": {},
   "outputs": [
    {
     "data": {
      "text/html": [
       "<div>\n",
       "<style scoped>\n",
       "    .dataframe tbody tr th:only-of-type {\n",
       "        vertical-align: middle;\n",
       "    }\n",
       "\n",
       "    .dataframe tbody tr th {\n",
       "        vertical-align: top;\n",
       "    }\n",
       "\n",
       "    .dataframe thead th {\n",
       "        text-align: right;\n",
       "    }\n",
       "</style>\n",
       "<table border=\"1\" class=\"dataframe\">\n",
       "  <thead>\n",
       "    <tr style=\"text-align: right;\">\n",
       "      <th></th>\n",
       "      <th>age</th>\n",
       "      <th>scholarship</th>\n",
       "    </tr>\n",
       "  </thead>\n",
       "  <tbody>\n",
       "    <tr>\n",
       "      <th>count</th>\n",
       "      <td>110526.000000</td>\n",
       "      <td>110526.000000</td>\n",
       "    </tr>\n",
       "    <tr>\n",
       "      <th>mean</th>\n",
       "      <td>37.089219</td>\n",
       "      <td>0.098266</td>\n",
       "    </tr>\n",
       "    <tr>\n",
       "      <th>std</th>\n",
       "      <td>23.110026</td>\n",
       "      <td>0.297676</td>\n",
       "    </tr>\n",
       "    <tr>\n",
       "      <th>min</th>\n",
       "      <td>0.000000</td>\n",
       "      <td>0.000000</td>\n",
       "    </tr>\n",
       "    <tr>\n",
       "      <th>25%</th>\n",
       "      <td>18.000000</td>\n",
       "      <td>0.000000</td>\n",
       "    </tr>\n",
       "    <tr>\n",
       "      <th>50%</th>\n",
       "      <td>37.000000</td>\n",
       "      <td>0.000000</td>\n",
       "    </tr>\n",
       "    <tr>\n",
       "      <th>75%</th>\n",
       "      <td>55.000000</td>\n",
       "      <td>0.000000</td>\n",
       "    </tr>\n",
       "    <tr>\n",
       "      <th>max</th>\n",
       "      <td>115.000000</td>\n",
       "      <td>1.000000</td>\n",
       "    </tr>\n",
       "  </tbody>\n",
       "</table>\n",
       "</div>"
      ],
      "text/plain": [
       "                 age    scholarship\n",
       "count  110526.000000  110526.000000\n",
       "mean       37.089219       0.098266\n",
       "std        23.110026       0.297676\n",
       "min         0.000000       0.000000\n",
       "25%        18.000000       0.000000\n",
       "50%        37.000000       0.000000\n",
       "75%        55.000000       0.000000\n",
       "max       115.000000       1.000000"
      ]
     },
     "execution_count": 30,
     "metadata": {},
     "output_type": "execute_result"
    }
   ],
   "source": [
    "df.describe()"
   ]
  },
  {
   "cell_type": "markdown",
   "metadata": {},
   "source": [
    "We can see that the median age of the dataset is 37. Therefore, the age limit of our younger group will be 0-37 years and older group will be 38-115 years."
   ]
  },
  {
   "cell_type": "code",
   "execution_count": 31,
   "metadata": {},
   "outputs": [],
   "source": [
    "young_group = df.query('age <= 37') # younger group\n",
    "old_group = df.query('age >= 38') # older group"
   ]
  },
  {
   "cell_type": "markdown",
   "metadata": {},
   "source": [
    "Now, we will work with the younger group first. We will figure out the percentage of younger patients who showed-up and who did not show-up and finally plot this in a bar chart for clear understanding."
   ]
  },
  {
   "cell_type": "code",
   "execution_count": 32,
   "metadata": {
    "scrolled": true
   },
   "outputs": [
    {
     "data": {
      "text/plain": [
       "No     43355\n",
       "Yes    12761\n",
       "Name: no_show, dtype: int64"
      ]
     },
     "execution_count": 32,
     "metadata": {},
     "output_type": "execute_result"
    }
   ],
   "source": [
    "# The number of younger patients who showed-up and who did not show-up\n",
    "young_group.no_show.value_counts()  "
   ]
  },
  {
   "cell_type": "code",
   "execution_count": 33,
   "metadata": {},
   "outputs": [
    {
     "data": {
      "text/plain": [
       "56116"
      ]
     },
     "execution_count": 33,
     "metadata": {},
     "output_type": "execute_result"
    }
   ],
   "source": [
    "# Total number of younger patients\n",
    "young_group.shape[0]  "
   ]
  },
  {
   "cell_type": "markdown",
   "metadata": {},
   "source": [
    "Looks like out of total 56,116 younger patients, 43,355 showed-up and 12,761 did not show-up. Let's calculate the percentage of younger patients who showed-up and who did not show-up."
   ]
  },
  {
   "cell_type": "code",
   "execution_count": 34,
   "metadata": {},
   "outputs": [
    {
     "name": "stdout",
     "output_type": "stream",
     "text": [
      "77.25960510371374 22.740394896286265\n"
     ]
    }
   ],
   "source": [
    "percentge_young_showed_up = (young_group.no_show.value_counts().No/young_group.shape[0])*100  # this represents the percentage of young patients who showed-up\n",
    "percentage_young_did_not_show_up = (young_group.no_show.value_counts().Yes/young_group.shape[0])*100  # this represents the percentage of younger patients who did not show-up\n",
    "\n",
    "print(percentge_young_showed_up, percentage_young_did_not_show_up)"
   ]
  },
  {
   "cell_type": "markdown",
   "metadata": {},
   "source": [
    "Now let's plot our above findings in a bar chart."
   ]
  },
  {
   "cell_type": "code",
   "execution_count": 35,
   "metadata": {},
   "outputs": [
    {
     "data": {
      "image/png": "[encoded data removed]",
      "text/plain": [
       "<Figure size 432x288 with 1 Axes>"
      ]
     },
     "metadata": {
      "needs_background": "light"
     },
     "output_type": "display_data"
    }
   ],
   "source": [
    "locations = [0, 1]\n",
    "heights = [percentge_young_showed_up, percentage_young_did_not_show_up]\n",
    "labels = ['Showed-Up', 'No-Show']\n",
    "plt.bar(locations, heights, tick_label=labels, facecolor='teal', edgecolor='black', width=0.6 )\n",
    "plt.title('Younger Patients Show-Up Status by Percentage')\n",
    "plt.xlabel('Younger Show-Up Status')\n",
    "plt.ylabel('Percentage of Younger Patients')\n",
    "\n",
    "for i in range(len(locations)):\n",
    "    plt.text(i,heights[i], f\"{round(heights[i],2)} %\", ha='center', va='bottom') # to show the data level on top of the bars   \n",
    "\n",
    "plt.show()"
   ]
  },
  {
   "cell_type": "markdown",
   "metadata": {},
   "source": [
    "Here we can see that 22.74% of younger patients did not show-up in comparison to 77.26% of younger patients who actually showed-up. Now, we will work with the older group."
   ]
  },
  {
   "cell_type": "code",
   "execution_count": 36,
   "metadata": {},
   "outputs": [
    {
     "data": {
      "text/plain": [
       "No     44852\n",
       "Yes     9558\n",
       "Name: no_show, dtype: int64"
      ]
     },
     "execution_count": 36,
     "metadata": {},
     "output_type": "execute_result"
    }
   ],
   "source": [
    "# The number of older patients who showed-up and who did not show-up\n",
    "old_group.no_show.value_counts() "
   ]
  },
  {
   "cell_type": "code",
   "execution_count": 37,
   "metadata": {},
   "outputs": [
    {
     "data": {
      "text/plain": [
       "54410"
      ]
     },
     "execution_count": 37,
     "metadata": {},
     "output_type": "execute_result"
    }
   ],
   "source": [
    "# Total number of older patients\n",
    "old_group.shape[0]"
   ]
  },
  {
   "cell_type": "markdown",
   "metadata": {},
   "source": [
    "Now, in the same way, we will calculate the percentage of older patients who showed-up and who did not show-up."
   ]
  },
  {
   "cell_type": "code",
   "execution_count": 38,
   "metadata": {},
   "outputs": [
    {
     "name": "stdout",
     "output_type": "stream",
     "text": [
      "82.43337621760706 17.56662378239294\n"
     ]
    }
   ],
   "source": [
    "percentge_old_showed_up = (old_group.no_show.value_counts().No/old_group.shape[0])*100  # this represents the percentage of older patients who showed-up\n",
    "percentage_old_did_not_show_up = (old_group.no_show.value_counts().Yes/old_group.shape[0])*100  # this represents the percentage of older patients who did not show-up\n",
    "\n",
    "print(percentge_old_showed_up, percentage_old_did_not_show_up)"
   ]
  },
  {
   "cell_type": "markdown",
   "metadata": {},
   "source": [
    "Let's plot our above findings in a bar chart."
   ]
  },
  {
   "cell_type": "code",
   "execution_count": 39,
   "metadata": {},
   "outputs": [
    {
     "data": {
      "image/png": "[encoded data removed]",
      "text/plain": [
       "<Figure size 432x288 with 1 Axes>"
      ]
     },
     "metadata": {
      "needs_background": "light"
     },
     "output_type": "display_data"
    }
   ],
   "source": [
    "locations = [0, 1]\n",
    "heights = [percentge_old_showed_up, percentage_old_did_not_show_up]\n",
    "labels = ['Showed-Up', 'No-Show']\n",
    "plt.bar(locations, heights, tick_label=labels, facecolor='orange', edgecolor='black', width=0.6 )\n",
    "plt.title('Older Patients Show-Up Status by Percentage')\n",
    "plt.xlabel('Older Show-Up Status')\n",
    "plt.ylabel('Percentage of Older Patients')\n",
    "\n",
    "for i in range(len(locations)):\n",
    "    plt.text(i,heights[i], f\"{round(heights[i],2)} %\", ha='center', va='bottom') # to show the data level on top of the bars   \n",
    "\n",
    "plt.show()"
   ]
  },
  {
   "cell_type": "markdown",
   "metadata": {},
   "source": [
    "Now we can clearly see that older patients who did not show-up is 17.57% whereas the younger patients who did not show-up is 22.74%. Hence, according to our dataset we can say that, older patients do not tend to miss their appointments in comparison to younger patients."
   ]
  },
  {
   "cell_type": "markdown",
   "metadata": {},
   "source": [
    "### Research Question 3 : Does sending SMS message about appointments has influence on patient's show up or not?"
   ]
  },
  {
   "cell_type": "markdown",
   "metadata": {},
   "source": [
    "To answer this question, first we need to see how many patients received SMS message and how many didn't."
   ]
  },
  {
   "cell_type": "code",
   "execution_count": 44,
   "metadata": {},
   "outputs": [
    {
     "data": {
      "text/plain": [
       "No     75044\n",
       "Yes    35482\n",
       "Name: sms_received, dtype: int64"
      ]
     },
     "execution_count": 44,
     "metadata": {},
     "output_type": "execute_result"
    }
   ],
   "source": [
    "df_sms = df.sms_received.value_counts()\n",
    "df_sms"
   ]
  },
  {
   "cell_type": "markdown",
   "metadata": {},
   "source": [
    "Interesting! As we can see, most of the patients actually didn't receive any SMS message as reminder for their appointment. Now, to get an overall idea, we will subcategorize the above data on the basis of show-up vs no-show using the groupby function."
   ]
  },
  {
   "cell_type": "code",
   "execution_count": 45,
   "metadata": {},
   "outputs": [
    {
     "data": {
      "text/plain": [
       "sms_received  no_show\n",
       "No            No         62509\n",
       "              Yes        12535\n",
       "Yes           No         25698\n",
       "              Yes         9784\n",
       "Name: no_show, dtype: int64"
      ]
     },
     "execution_count": 45,
     "metadata": {},
     "output_type": "execute_result"
    }
   ],
   "source": [
    "df.groupby(['sms_received','no_show']).no_show.count()"
   ]
  },
  {
   "cell_type": "markdown",
   "metadata": {},
   "source": [
    "This is more interesting! Looks like, out of 75,044 patients (who did not receive SMS), only 12,535 did not show-up. That means, 16.70% actually missed their appointments. On the other hand, out of 35,482 patients (who received SMS) only 9,784 did not show-up. That means, 27.57% actually missed their appointments. <br>\n",
    "\n",
    "Apparently, the patients who did not receive any SMS had the maximum number of no-show but if we consider the percentage, we can see those who received SMS had the maximum portion of no-show. And this is because, the number of patients who did not receive SMS is almost double in comparison to those patients who received SMS. <br>\n",
    "\n",
    "However, to get a more clear understanding, we will get all the numbers seperately and plot them in a stacked bar chart."
   ]
  },
  {
   "cell_type": "code",
   "execution_count": 46,
   "metadata": {},
   "outputs": [
    {
     "data": {
      "text/plain": [
       "62509"
      ]
     },
     "execution_count": 46,
     "metadata": {},
     "output_type": "execute_result"
    }
   ],
   "source": [
    "# Patients who did not receive SMS but showed-up\n",
    "sms_no_showed_up = df.query('sms_received == \"No\" & no_show == \"No\"').no_show.count()\n",
    "sms_no_showed_up"
   ]
  },
  {
   "cell_type": "code",
   "execution_count": 47,
   "metadata": {},
   "outputs": [
    {
     "data": {
      "text/plain": [
       "12535"
      ]
     },
     "execution_count": 47,
     "metadata": {},
     "output_type": "execute_result"
    }
   ],
   "source": [
    "# Patients who did not receive SMS and no-show\n",
    "sms_no_no_show = df.query('sms_received == \"No\" & no_show == \"Yes\"').no_show.count()\n",
    "sms_no_no_show"
   ]
  },
  {
   "cell_type": "code",
   "execution_count": 48,
   "metadata": {},
   "outputs": [
    {
     "data": {
      "text/plain": [
       "25698"
      ]
     },
     "execution_count": 48,
     "metadata": {},
     "output_type": "execute_result"
    }
   ],
   "source": [
    "# Patients who received SMS and showed-up\n",
    "sms_yes_showed_up = df.query('sms_received == \"Yes\" & no_show == \"No\"').no_show.count()\n",
    "sms_yes_showed_up"
   ]
  },
  {
   "cell_type": "code",
   "execution_count": 49,
   "metadata": {},
   "outputs": [
    {
     "data": {
      "text/plain": [
       "9784"
      ]
     },
     "execution_count": 49,
     "metadata": {},
     "output_type": "execute_result"
    }
   ],
   "source": [
    "# Patients who received SMS but no-show\n",
    "sms_yes_no_show = df.query('sms_received == \"Yes\" & no_show == \"Yes\"').no_show.count()\n",
    "sms_yes_no_show"
   ]
  },
  {
   "cell_type": "markdown",
   "metadata": {},
   "source": [
    "Now let's plot the above data in a stacked bar chart."
   ]
  },
  {
   "cell_type": "code",
   "execution_count": 51,
   "metadata": {},
   "outputs": [
    {
     "data": {
      "image/png": "[encoded data removed]",
      "text/plain": [
       "<Figure size 432x504 with 1 Axes>"
      ]
     },
     "metadata": {
      "needs_background": "light"
     },
     "output_type": "display_data"
    }
   ],
   "source": [
    "locations = ['SMS Received', 'SMS Not Received']\n",
    "plt.figure(figsize=(6,7))\n",
    "\n",
    "show_up = (sms_yes_showed_up, sms_no_showed_up) # Patients who showed-up\n",
    "no_show = (sms_yes_no_show, sms_no_no_show) # Patients who did not show-up\n",
    "\n",
    "p1 = plt.bar(locations, show_up, width=0.50)\n",
    "p2 = plt.bar(locations, no_show, width=0.50, bottom=show_up)\n",
    "\n",
    "plt.title('Patients show up status grouped by SMS received / not received')\n",
    "plt.ylabel('Number of Patients')\n",
    "plt.legend((p1,p2), ('Showed-up', 'No-show'))\n",
    "plt.show()"
   ]
  },
  {
   "cell_type": "markdown",
   "metadata": {},
   "source": [
    "From the above graph and analysis, we can see that, overall the number of patients who received SMS is substantially higher than those who didn't receive. But in regards to no-show vs showed-up, there is a smaller differences between patients having received an SMS or not. Moreover, the patients who didn't receive SMS, 16.70% missed their appointment whereas the patients who received SMS, 27.57% missed their appointment. \n",
    "\n",
    "Therefore, according to the dataset we can say that, receiving an SMS or not did not seem to have that much influence on the number of no-shows."
   ]
  },
  {
   "cell_type": "markdown",
   "metadata": {},
   "source": [
    "### Research Question 4 : Does financial ability of the patients has any influence on no-show appointments?"
   ]
  },
  {
   "cell_type": "markdown",
   "metadata": {},
   "source": [
    "To answer this question, again we need to separate the patients into two different groups, who took government financial assistance and who did not. Here, for analysis purpose, it is assumed that the patients with limited financial ability and who enrolled in Brazilian social welfare program \"Bolsa Família\" are denoted as \"1\" under the scholarship column and treated as poor. On the other hand, patients who were financially well-off are denoted as \"0\" under the same column and treated as rich.\n",
    "Then we will see what percentage of poor patients did not show-up in comparison to rich ones."
   ]
  },
  {
   "cell_type": "code",
   "execution_count": 53,
   "metadata": {},
   "outputs": [],
   "source": [
    "# Separating the patients into two different groups\n",
    "poor_patients = df.query('scholarship == 1') # poor group\n",
    "rich_patients = df.query('scholarship == 0') # rich group"
   ]
  },
  {
   "cell_type": "markdown",
   "metadata": {},
   "source": [
    "Now we will work with the poor group first."
   ]
  },
  {
   "cell_type": "code",
   "execution_count": 54,
   "metadata": {},
   "outputs": [
    {
     "data": {
      "text/plain": [
       "10861"
      ]
     },
     "execution_count": 54,
     "metadata": {},
     "output_type": "execute_result"
    }
   ],
   "source": [
    "# Total number of poor patients\n",
    "poor_patients.shape[0]"
   ]
  },
  {
   "cell_type": "code",
   "execution_count": 55,
   "metadata": {},
   "outputs": [
    {
     "data": {
      "text/plain": [
       "No     8283\n",
       "Yes    2578\n",
       "Name: no_show, dtype: int64"
      ]
     },
     "execution_count": 55,
     "metadata": {},
     "output_type": "execute_result"
    }
   ],
   "source": [
    "# Number of poor patients who showed-up and who did not show-up\n",
    "poor_patients.no_show.value_counts()"
   ]
  },
  {
   "cell_type": "markdown",
   "metadata": {},
   "source": [
    "Here we can see that out of 10861 poor patients, 8283 showed-up and 2578 did not show-up."
   ]
  },
  {
   "cell_type": "code",
   "execution_count": 56,
   "metadata": {},
   "outputs": [
    {
     "name": "stdout",
     "output_type": "stream",
     "text": [
      "76.26369579228432 23.73630420771568\n"
     ]
    }
   ],
   "source": [
    "# percentage of poor patients who showed-up and who did not show-up\n",
    "percentge_poor_showed_up = (poor_patients.no_show.value_counts().No/poor_patients.shape[0])*100  \n",
    "percentage_poor_did_not_show_up = (poor_patients.no_show.value_counts().Yes/poor_patients.shape[0])*100  \n",
    "\n",
    "print(percentge_poor_showed_up, percentage_poor_did_not_show_up)"
   ]
  },
  {
   "cell_type": "markdown",
   "metadata": {},
   "source": [
    "Now we will go ahead and plot our findings in a bar chart."
   ]
  },
  {
   "cell_type": "code",
   "execution_count": 57,
   "metadata": {},
   "outputs": [
    {
     "data": {
      "image/png": "[encoded data removed]",
      "text/plain": [
       "<Figure size 432x288 with 1 Axes>"
      ]
     },
     "metadata": {
      "needs_background": "light"
     },
     "output_type": "display_data"
    }
   ],
   "source": [
    "locations = [0, 1]\n",
    "heights = [percentge_poor_showed_up, percentage_poor_did_not_show_up]\n",
    "labels = ['Showed-Up', 'No-Show']\n",
    "plt.bar(locations, heights, tick_label=labels, facecolor='grey', edgecolor='black', width=0.6 )\n",
    "plt.title('Poor Patients Show-Up Status by Percentage')\n",
    "plt.xlabel('Poor Patients Show-Up Status')\n",
    "plt.ylabel('Percentage of Poor Patients')\n",
    "\n",
    "for i in range(len(locations)):\n",
    "    plt.text(i,heights[i], f\"{round(heights[i],2)} %\", ha='center', va='bottom') # to show the data level on top of the bars   \n",
    "\n",
    "plt.show()"
   ]
  },
  {
   "cell_type": "markdown",
   "metadata": {},
   "source": [
    "Now it's time to work with the rich group."
   ]
  },
  {
   "cell_type": "code",
   "execution_count": 58,
   "metadata": {},
   "outputs": [
    {
     "data": {
      "text/plain": [
       "99665"
      ]
     },
     "execution_count": 58,
     "metadata": {},
     "output_type": "execute_result"
    }
   ],
   "source": [
    "# Total number of rich patients\n",
    "rich_patients.shape[0]"
   ]
  },
  {
   "cell_type": "code",
   "execution_count": 59,
   "metadata": {},
   "outputs": [
    {
     "data": {
      "text/plain": [
       "No     79924\n",
       "Yes    19741\n",
       "Name: no_show, dtype: int64"
      ]
     },
     "execution_count": 59,
     "metadata": {},
     "output_type": "execute_result"
    }
   ],
   "source": [
    "# Number of rich patients who showed-up and who did not show-up\n",
    "rich_patients.no_show.value_counts()"
   ]
  },
  {
   "cell_type": "markdown",
   "metadata": {},
   "source": [
    "Here we can see that out of 99665 rich patients, 79924 showed-up and 19741 did not show-up."
   ]
  },
  {
   "cell_type": "code",
   "execution_count": 60,
   "metadata": {},
   "outputs": [
    {
     "name": "stdout",
     "output_type": "stream",
     "text": [
      "80.19264536196258 19.807354638037424\n"
     ]
    }
   ],
   "source": [
    "# percentage of rich patients who showed-up and who did not show-up\n",
    "percentge_rich_showed_up = (rich_patients.no_show.value_counts().No/rich_patients.shape[0])*100  \n",
    "percentage_rich_did_not_show_up = (rich_patients.no_show.value_counts().Yes/rich_patients.shape[0])*100  \n",
    "\n",
    "print(percentge_rich_showed_up, percentage_rich_did_not_show_up)"
   ]
  },
  {
   "cell_type": "markdown",
   "metadata": {},
   "source": [
    "Let's plot ourfindings in a bar chart."
   ]
  },
  {
   "cell_type": "code",
   "execution_count": 61,
   "metadata": {},
   "outputs": [
    {
     "data": {
      "image/png": "[encoded data removed]",
      "text/plain": [
       "<Figure size 432x288 with 1 Axes>"
      ]
     },
     "metadata": {
      "needs_background": "light"
     },
     "output_type": "display_data"
    }
   ],
   "source": [
    "locations = [0, 1]\n",
    "heights = [percentge_rich_showed_up, percentage_rich_did_not_show_up]\n",
    "labels = ['Showed-Up', 'No-Show']\n",
    "plt.bar(locations, heights, tick_label=labels, facecolor='maroon', edgecolor='black', width=0.6 )\n",
    "plt.title('Rich Patients Show-Up Status by Percentage')\n",
    "plt.xlabel('Rich Patients Show-Up Status')\n",
    "plt.ylabel('Percentage of Rich Patients')\n",
    "\n",
    "for i in range(len(locations)):\n",
    "    plt.text(i,heights[i], f\"{round(heights[i],2)} %\", ha='center', va='bottom') # to show the data level on top of the bars   \n",
    "\n",
    "plt.show()"
   ]
  },
  {
   "cell_type": "markdown",
   "metadata": {},
   "source": [
    "The result is quite interesting. We can see that poor patients who did not show-up is 23.74% whereas rich patients who did not show up is only 19.81%. To know the actual fact, intensive research is required. But from our above analysis we found that financial ability of the patients has at least some influence on no-show appoitments."
   ]
  },
  {
   "cell_type": "markdown",
   "metadata": {},
   "source": [
    "<a id='conclusions'></a>\n",
    "## Conclusions"
   ]
  },
  {
   "cell_type": "markdown",
   "metadata": {
    "collapsed": true
   },
   "source": [
    "This is a Kaggle dataset having 110k medical appointments in Brazil and here we tried to focus from different angle to figure out the reasons/factors behind the no-show appointments. To do that, we considered 'No-show' as dependent variable and 'Age', 'SMS-received' & 'Scholarship' as independent variable. \n",
    "\n",
    "First we tried to know what percentage of patients did not show-up and we found 20.19% of patients actually did not show-up. This is a reasonably high prportion because healthcare facilities engage their time and resources against these appointments and it's not expected that one out of every five patients will not show-up even after scheduling their appointments.\n",
    "\n",
    "Then we tried to focus on age factor and found that older patients missed their appointments by 17.57% whereas younger patients missed their appointments by 22.74%. Therefore we can say that older patient's do not tend to miss their appointments in comparison to younger patients.\n",
    "\n",
    "Then we tried to know the effect of sending SMS on no-show appointments. In this case, we interestingly found that, out of 110k patients, 75k (68%) did not receive SMS and only 35k (32%) received SMS. However, those who received SMS, 27.57% missed their appointments and those who did not receive SMS, only 16.70% missed their appointments. Therefore, according to this dataset as well as our analysis, we did not find any influence of sending SMS on no-show appointments.\n",
    "\n",
    "Finally, we tried to see whether there is any influence of financial ability on no-show appointments or not. Here, for analysis purpose, we separated the patients into two different groups those who took financial assistance and those who did not. And we found, those who took financial assistance missed their appointments by 23.74% and those who are well-off and did not take the government financial assistance missed only 19.81%. Hence, we can say that financial ability has at least some influence on no-show appointments."
   ]
  },
  {
   "cell_type": "markdown",
   "metadata": {},
   "source": [
    "#### Limitations:\n",
    "Though we didn't find any duplicate appointment according to 'Appointment ID', we didn't work with distinct patient's data. And therefore, it is possible to have multiple appointments of a patient.\n",
    "\n",
    "In our analysis, we didn't conducted any statistical test.\n",
    "\n",
    "We tried to figure out the reason of no-show appointments focusing on different factors. But to know the actual fact, more detailed research is required."
   ]
  },
  {
   "cell_type": "code",
   "execution_count": null,
   "metadata": {},
   "outputs": [],
   "source": []
  }
 ],
 "metadata": {
  "kernelspec": {
   "display_name": "Python 3",
   "language": "python",
   "name": "python3"
  },
  "language_info": {
   "codemirror_mode": {
    "name": "ipython",
    "version": 3
   },
   "file_extension": ".py",
   "mimetype": "text/x-python",
   "name": "python",
   "nbconvert_exporter": "python",
   "pygments_lexer": "ipython3",
   "version": "3.8.5"
  }
 },
 "nbformat": 4,
 "nbformat_minor": 2
}
